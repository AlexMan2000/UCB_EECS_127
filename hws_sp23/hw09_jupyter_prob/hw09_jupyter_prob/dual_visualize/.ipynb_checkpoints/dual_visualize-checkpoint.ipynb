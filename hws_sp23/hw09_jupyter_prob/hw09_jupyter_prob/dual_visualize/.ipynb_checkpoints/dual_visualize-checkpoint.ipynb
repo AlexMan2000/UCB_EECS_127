{
 "cells": [
  {
   "cell_type": "code",
   "execution_count": 1,
   "metadata": {},
   "outputs": [],
   "source": [
    "import numpy as np\n",
    "import matplotlib.pyplot as plt\n",
    "from mpl_toolkits.mplot3d import Axes3D\n",
    "%matplotlib inline"
   ]
  },
  {
   "cell_type": "markdown",
   "metadata": {},
   "source": [
    "# Duality"
   ]
  },
  {
   "cell_type": "markdown",
   "metadata": {},
   "source": [
    "In this problem we look at the primal and dual problems for simple cases and get insights into duality."
   ]
  },
  {
   "cell_type": "markdown",
   "metadata": {},
   "source": [
    "## Helper functions "
   ]
  },
  {
   "cell_type": "code",
   "execution_count": 2,
   "metadata": {},
   "outputs": [],
   "source": [
    "## DO NOT MODIFY THIS CODE\n",
    "# Wrapper function to get primal functions\n",
    "def get_primal(subpart):\n",
    "    if subpart == 0:\n",
    "        x = np.linspace(-2, 8, 100)\n",
    "        return x, get_primal_lp(x), get_p_opt_lp(x), get_primal_constraint_lp()\n",
    "    elif subpart == 1:\n",
    "        x, y = np.linspace(-2, 2, 100), np.linspace(-2, 2, 100)\n",
    "        X, Y = np.meshgrid(x, y)\n",
    "        return X, Y, get_primal_e(X, Y), get_primal_constraint_e(x, y), get_p_opt_e(np.linspace(0, 10, 100))\n",
    "    elif subpart == 2:\n",
    "        x = np.linspace(-5, 5, 100)\n",
    "        return\n",
    "    else:\n",
    "        print(\"Subpart must be 0, 1, or 2.\")\n",
    "\n",
    "# Wrapper function to get dual functions\n",
    "def get_dual(subpart):\n",
    "    if subpart == 0:\n",
    "        lam = np.linspace(-2, 8, 100)\n",
    "        dual_constraints = get_dual_constraints_lp()\n",
    "        return lam, get_dual_lp(lam), dual_constraints\n",
    "    elif subpart == 1:\n",
    "        lam = np.linspace(10**-10, 4, 100)\n",
    "        return lam, get_dual_e(lam)\n",
    "    elif subpart == 2:\n",
    "        return\n",
    "    else:\n",
    "        print(\"Subpart must be 0, 1, or 2.\")\n",
    "        \n",
    "# Helper function for plotting. Do not change this function.\n",
    "def visualize(subpart):\n",
    "    p = get_primal(subpart)\n",
    "    d = get_dual(subpart)\n",
    "    if subpart == 0: # 1d primal and dual variables\n",
    "        (lam, dual, dual_constraints) = d\n",
    "        x, primal, p_opt, primal_constraint = p\n",
    "        fig, (ax1, ax2) = plt.subplots(nrows=1, ncols=2, sharey=True, figsize = [12,6])\n",
    "        ax1.plot(x, primal, color=\"b\", label=r'$f(x)$')\n",
    "        ax1.plot(x, p_opt, color=\"k\", linestyle=\"dotted\", label=r'$p^* = 6$')\n",
    "        ax1.axvspan(-2, primal_constraint, alpha=0.5, facecolor=\"r\")\n",
    "        ax1.set_xlim([-2, 8])\n",
    "        ax1.legend(loc=\"upper left\")\n",
    "        ax1.set_title(\"Primal\")\n",
    "        ax1.set_xlabel(r'$x$')\n",
    "        ax1.set_ylabel(r'$f(x)$')\n",
    "       \n",
    "    \n",
    "        ax2.plot(lam, dual, color=\"g\", label=r'$g(\\lambda)$')\n",
    "        ax2.plot(x, p_opt, color=\"k\", linestyle=\"dotted\", label=r'$p^* = 6$')\n",
    "#         ax2.plot(dual_constraints[0], dual_constraints[1], color=\"y\")\n",
    "        ax2.axvspan(-2, dual_constraints[0], alpha=0.5, facecolor=\"r\")\n",
    "        ax2.axvspan(dual_constraints[1], 8, alpha=0.5, facecolor=\"r\")\n",
    "\n",
    "        ax2.legend(loc=\"upper left\")\n",
    "        ax2.set_title(\"Dual\")\n",
    "        ax2.set_xlabel(r'$\\lambda$')\n",
    "        ax2.set_ylabel(r'$g(\\lambda)$')\n",
    " \n",
    "    elif subpart == 1: # 2d primal variables\n",
    "        (lam, dual) = d\n",
    "        X, Y, primal, primal_constraint, p_opt = p\n",
    "        plt3d = plt.figure().add_subplot(projection='3d')\n",
    "        plt3d.plot_surface(X, Y, primal_constraint, alpha=.2, color = 'red')\n",
    "        ax = plt.gca()\n",
    "        ax.contour3D(X, Y, primal, 50, cmap='binary')\n",
    "        ax = plt.gca()\n",
    "        ax.set_xlabel(r'$x$')\n",
    "        ax.set_ylabel(r'$y$')\n",
    "        ax.set_zlabel(r'$f(x,y)$')\n",
    "        ax.set_title(\"Primal\")\n",
    "        \n",
    "        fig2, (ax1, ax2, ax3) = plt.subplots(nrows=1, ncols=3, sharey=True, figsize = [12,6])\n",
    "        \n",
    "        x = np.linspace(0, 2, 100)\n",
    "        ax1.set_title(r'Cross section: $f(x,y)$ s.t. $x + y = 1$')\n",
    "        ax1.plot(x, np.exp(x) + np.exp(1-x), label=r'$f(x,y)$')\n",
    "        ax1.plot(x, p_opt, color=\"k\", linestyle=\"dotted\", label=r'$p^*$')\n",
    "        ax1.set_xlabel(r'$x$')\n",
    "        ax1.legend(loc=\"upper right\")\n",
    "        \n",
    "        ax2.set_title(r'Cross section: $f(x,y)$ s.t. $y = \\frac{1}{2}$')\n",
    "        ax2.plot(x, np.exp(x) + np.exp(.5), label=r'$f(x,y)$')\n",
    "        ax2.plot(x, p_opt, color=\"k\", linestyle=\"dotted\", label=r'$p^*$')\n",
    "        ax2.axvspan(0, .5, alpha=0.5, facecolor=\"r\")\n",
    "        ax2.set_xlabel(r'$x$')\n",
    "        ax2.legend(loc=\"upper right\")\n",
    "        \n",
    "        ax3.plot(lam, dual, label=r'$g(\\lambda)$')\n",
    "        ax3.plot(lam, p_opt, color=\"k\", linestyle=\"dotted\", label=r'$p^*$')\n",
    "        ax3.set_title(\"Dual\")\n",
    "        ax3.set_xlabel(r'$\\lambda$')\n",
    "        ax3.legend(loc=\"upper right\")\n",
    "        \n",
    "    elif subpart == 2:\n",
    "        return\n",
    "    else:\n",
    "        print(\"Subpart must be 0, 1, or 2.\")\n",
    "    plt.legend()"
   ]
  },
  {
   "cell_type": "markdown",
   "metadata": {},
   "source": [
    "## Problem (1):  A Linear program"
   ]
  },
  {
   "cell_type": "markdown",
   "metadata": {},
   "source": [
    "### Problem formulation\n",
    "Consider the problem of minimizing a linear objective subject to a linear constraint. Suppose $a$ is a positive scalar.\n",
    "\n",
    "\\begin{aligned}\n",
    "p^\\ast =& \\min_{x \\geq 0 } ax \\\\\n",
    "\\text{s.t. }& x \\geq b.\n",
    "\\end{aligned}\n",
    "\n",
    "We consider the case where $a = 2$ and $b = 3$. In this case clearly the optimal primal solution is $x^* = 3$ and $p^* = 6$."
   ]
  },
  {
   "cell_type": "markdown",
   "metadata": {},
   "source": [
    "### Constructing the primal  "
   ]
  },
  {
   "cell_type": "code",
   "execution_count": 3,
   "metadata": {},
   "outputs": [],
   "source": [
    "## DO NOT MODIFY THIS CODE\n",
    "a = 2\n",
    "b = 3\n",
    "\n",
    "##Get primal for plottting\n",
    "def get_primal_lp(x):\n",
    "    \"\"\" x: array of scalars \"\"\"\n",
    "    return np.multiply(x, a)\n",
    "\n",
    "def get_p_opt_lp(x):\n",
    "    \"\"\" \n",
    "    Used for plotting the optimal value p*.\n",
    "    Input:\n",
    "    Output:\n",
    "    \"\"\"\n",
    "    return [a*b for _ in x]\n",
    "\n",
    "def get_primal_constraint_lp():\n",
    "    \"\"\"\n",
    "    Used for plotting feasible x region\n",
    "    \"\"\"\n",
    "    return b"
   ]
  },
  {
   "cell_type": "markdown",
   "metadata": {},
   "source": [
    "### We can formulate the dual problem for the LP which involves maximizing $g(\\lambda_1, \\lambda_2)$ where $\\lambda_1$ is the dual variable corresponding to the constraint $x \\geq 3$ and $\\lambda_2$ is the dual variable corresponding to the constraint $x \\geq 0$. Then, we solve it to obtain $d^*$.\n",
    "\n",
    "\n",
    "The Lagrangian is given by,\n",
    "\\begin{aligned}\n",
    "\\mathcal L (x,\\lambda_1, \\lambda_2) &= 2x + \\lambda_1(-x+3) + \\lambda_2(-x) \\\\\n",
    "&= x(2 - \\lambda_1 - \\lambda_2) + 3\\lambda_1 .\n",
    "\\end{aligned}\n",
    "Then for $\\lambda_1 \\geq 0$, $\\lambda_2 \\geq 0$,\n",
    "\\begin{aligned}\n",
    "g(\\lambda_1, \\lambda_2) = \\inf\\limits_{x} \\mathcal L (x, \\lambda_1, \\lambda_2).\n",
    "\\end{aligned}\n",
    "Observe that if $\\lambda_1 + \\lambda_2 \\neq 2$ then $g(\\lambda_1, \\lambda_2)$ will be $-\\infty$, attained by taking $x$ to $\\infty$ or $-\\infty$.\n",
    "\n",
    "Therefore, the dual problem is\n",
    "\n",
    "\\begin{aligned}\n",
    "d^\\ast =& \\max_{\\lambda_1 \\geq 0, \\lambda_2 \\geq 0 } 3 \\lambda_1 \\\\\n",
    "\\text{s.t. }& \\lambda_1 + \\lambda_2 = 2.\n",
    "\\end{aligned}\n",
    "\n",
    "To maximize $3\\lambda_1$ we should set $\\lambda_1 = 2$ and $\\lambda_2 = 0$. This gives us $d^* = 6$. "
   ]
  },
  {
   "cell_type": "markdown",
   "metadata": {},
   "source": [
    "##### Next we will consider the Lagrangian only with respect to the constraint $x \\geq 3$ and form the dual problem. "
   ]
  },
  {
   "cell_type": "markdown",
   "metadata": {},
   "source": [
    "### We formulate the dual problem for the LP which involves maximizing $g(\\lambda)$ where $\\lambda$ is the dual variable corresponding to the constraint $x \\geq 3$. Then, we compare the dual problem to that of the previous one."
   ]
  },
  {
   "cell_type": "markdown",
   "metadata": {},
   "source": [
    "Similar to the previous part, the Lagrangian is\n",
    "\n",
    "\\begin{aligned}\n",
    "\\mathcal L (x,\\lambda) &= 2x + \\lambda(-x+3)\\\\\n",
    "&= x(2 - \\lambda) + 3\\lambda.\n",
    "\\end{aligned}\n",
    "\n",
    "The dual problem is given by\n",
    "\n",
    "\\begin{aligned}\n",
    "d^\\ast =& \\max_{\\lambda \\geq 0 } \\min_{x \\geq 0} x(2 - \\lambda) + 3\\lambda.\n",
    "\\end{aligned}\n",
    "\n",
    "Note that if $2 - \\lambda < 0, g(\\lambda) = -\\infty$, attained by taking $x$ to $\\infty$. Therefore, the optimal $\\lambda^*$ must satisfy $\\lambda \\leq 2$, and $x$ must be $0$.\n",
    "\n",
    "That is, the dual problem simplifies to\n",
    "\n",
    "\\begin{aligned}\n",
    "d^\\ast =& \\max_{\\lambda \\geq 0 } 3 \\lambda \\\\\n",
    "\\text{s.t. }& \\lambda \\leq 2.\n",
    "\\end{aligned}\n",
    "\n",
    "Note that while this dual problem appears different from that of the previous part, we can eliminate $\\lambda_2$ using the equality and the inequality constraint on $\\lambda_2$. Thus the two problems are essentially the same. \n",
    "\n",
    "**For problem without strong duality:** Note that if strong duality does not hold it need not always be true, that the dual problem obtained by dualizing different constraints are equivalent. For example consider the following optimization problem,\n",
    "\n",
    "\\begin{aligned}\n",
    "p^\\ast =& \\min_{x \\geq 0 } x^3 \\\\\n",
    "\\text{s.t. }& x \\geq 1.\n",
    "\\end{aligned}\n",
    "\n",
    "The problem is not convex since the objective function, $x^3$, is not convex. As an ungraded (and fun!)  exercise that is not part of the homework, formulate the dual problem and compare the dual optimal values  for the following 2 cases: <br>\n",
    "1) Form the dual only with respect to constraint $x \\geq 1$ <br>\n",
    "2) Form the dual with respect to both constraints, $x \\geq 0$ and $x \\geq 1$.\n"
   ]
  },
  {
   "cell_type": "markdown",
   "metadata": {},
   "source": [
    "### Fill in the get_dual_lp function and get_dual_constraints function based on the dual problem:\n",
    "\n",
    "\\begin{aligned}\n",
    "d^\\ast =& \\max_{\\lambda \\geq 0 } 3 \\lambda \\\\\n",
    "\\text{s.t. }& \\lambda \\leq 2.\n",
    "\\end{aligned}"
   ]
  },
  {
   "cell_type": "code",
   "execution_count": null,
   "metadata": {
    "collapsed": true
   },
   "outputs": [],
   "source": [
    "### Constructing the dual\n",
    "\n",
    "def get_dual_lp(lam):\n",
    "    \"\"\"\n",
    "    The objective function of the dual problem. Takes in lam and evaluate g(lam).\n",
    "    Input: lam: array of scalars representing dual variable\n",
    "    Output: g(lam): function value can be computed using variables of the linear program\n",
    "    \"\"\"\n",
    "    \n",
    "    ################################################################################\n",
    "    ### TODO: Replace the return value with the dual function, g(lambda) \n",
    "\n",
    "    return np.multiply(3,lam)\n",
    "\n",
    "    ### end TODO\n",
    "    ################################################################################\n",
    "\n",
    "    \n",
    "    \n",
    "def get_dual_constraints_lp():\n",
    "    \"\"\"\n",
    "    Get the bounds of the constraints that limit the feasible set of the dual variable.\n",
    "    Output: Return two floats, lam_low, lam_high so that the dual variable is\n",
    "    constrained as lam_low <= lam <= lam_high\n",
    "    \"\"\"\n",
    "\n",
    "    ################################################################################\n",
    "    ### TODO: Set the bounds for the dual variable\n",
    "\n",
    "    lam_low = None\n",
    "    lam_high = None\n",
    "\n",
    "    ### end TODO\n",
    "    ################################################################################\n",
    "    \n",
    "    return lam_low, lam_high"
   ]
  },
  {
   "cell_type": "code",
   "execution_count": null,
   "metadata": {},
   "outputs": [],
   "source": [
    "visualize(0)"
   ]
  },
  {
   "cell_type": "markdown",
   "metadata": {},
   "source": [
    "### <font color='red'>TODO:</font>\n",
    "#### <font color='red'> Based on the visualization of the primal and dual problem, where red region denotes region of infeasibility, what is the dual optimal solution $\\lambda^*$? Does strong duality hold? </font>\n",
    "\n",
    "#### <font color='blue'> [YOUR ANALYSIS HERE]\n",
    "</font>"
   ]
  },
  {
   "cell_type": "markdown",
   "metadata": {
    "collapsed": true
   },
   "source": [
    "## Problem (2): Minimizing exponentials in $\\mathbb{R}^2$"
   ]
  },
  {
   "cell_type": "markdown",
   "metadata": {},
   "source": [
    "### Problem formulation"
   ]
  },
  {
   "cell_type": "markdown",
   "metadata": {},
   "source": [
    "Consider the following problem, where $z = [x,y]$ is the two-dimensional primal variable.\n",
    "\\begin{aligned}\n",
    "    p^\\ast =& \\min_{x,y} e^x + e^y \\\\\n",
    "    \\text{s.t. }& x + y \\geq 1.\n",
    "\\end{aligned}"
   ]
  },
  {
   "cell_type": "markdown",
   "metadata": {},
   "source": [
    "### We first solve the primal problem to get $p^*$ and  primal optimal solutions $x^*, y^*$.\n",
    "\n",
    "Since objective function is increasing in both $x$ and $y$ the optimal solution must satisfy $x + y = 1$. If $(x, y)$ satisifies strict inequality with respect to constraint then we can decrease either $x$ or $y$ while not violating constraint and simultaneously decrease objective value.\n",
    "\n",
    "Substituting for $y = 1-x$ and differentiating with respect to $x$ we obtain $x^* = 0.5$ which gives us $y^* = 0.5$ and $p^* = 2e^{0.5} \\approx 3.3$."
   ]
  },
  {
   "cell_type": "markdown",
   "metadata": {},
   "source": [
    "### Constructing the primal  "
   ]
  },
  {
   "cell_type": "code",
   "execution_count": null,
   "metadata": {
    "collapsed": true
   },
   "outputs": [],
   "source": [
    "def get_primal_e(x, y):\n",
    "    \"\"\" x, y: arrays of scalars \"\"\"\n",
    "    return np.add(np.exp(x), np.exp(y))\n",
    "\n",
    "def get_primal_constraint_e(x, y):\n",
    "    return np.reshape(x + y - 1, [-1,1])\n",
    "\n",
    "def get_p_opt_e(x):\n",
    "    \"\"\" Used for plotting the optimal value p*. \"\"\"   \n",
    "    return [2 * np.exp(.5) for _ in x] "
   ]
  },
  {
   "cell_type": "markdown",
   "metadata": {},
   "source": [
    "### <font color='red'>TODO:</font>\n",
    "#### <font color='red'> Does Slater's condition hold? Is the problem convex? Does strong duality hold?</font>\n",
    "\n",
    "#### <font color='blue'> [YOUR ANALYSIS HERE]\n",
    "</font>"
   ]
  },
  {
   "cell_type": "markdown",
   "metadata": {},
   "source": [
    "### Next, we formulate the dual problem for the minimizing exponentials problem, which involves maximizing $g(\\lambda)$ where $\\lambda$ is the dual variable corresponding to the constraint $x + y \\geq 1$."
   ]
  },
  {
   "cell_type": "markdown",
   "metadata": {},
   "source": [
    "After deriving $g(\\lambda)$, we find that the dual problem is given by\n",
    "\n",
    "\\begin{aligned}\n",
    "d^\\ast =& \\max_{\\lambda} \\lambda(3 - 2 \\ln \\lambda) \\\\\n",
    "\\text{s.t. }& \\lambda \\geq 0.\n",
    "\\end{aligned}\n"
   ]
  },
  {
   "cell_type": "markdown",
   "metadata": {},
   "source": [
    "### Fill in the get_dual_lp function  function based on the given dual problem"
   ]
  },
  {
   "cell_type": "code",
   "execution_count": null,
   "metadata": {
    "collapsed": true
   },
   "outputs": [],
   "source": [
    "def get_dual_e(lam):\n",
    "    \"\"\" \n",
    "    The objective function of the dual problem.\n",
    "    lam: array of scalars \n",
    "    \"\"\"\n",
    "    \n",
    "    ################################################################################\n",
    "    ### TODO: Replace the return value with the dual function, g(lambda)\n",
    "\n",
    "    return lam\n",
    "\n",
    "    ### end TODO\n",
    "    ################################################################################\n",
    "\n",
    "    \n",
    "\n",
    "def get_dual_constraints_e():\n",
    "    return (0,5)"
   ]
  },
  {
   "cell_type": "code",
   "execution_count": null,
   "metadata": {
    "collapsed": true
   },
   "outputs": [],
   "source": [
    "visualize(1)"
   ]
  },
  {
   "cell_type": "markdown",
   "metadata": {},
   "source": [
    "### <font color='red'>TODO:</font>\n",
    "#### <font color='red'> Is the dual optimal value $d^*$ equal to $p*$?</font>\n",
    "\n",
    "#### <font color='blue'> [YOUR ANALYSIS HERE]\n",
    "</font>"
   ]
  }
 ],
 "metadata": {
  "anaconda-cloud": {},
  "kernelspec": {
   "display_name": "Python 3 (ipykernel)",
   "language": "python",
   "name": "python3"
  },
  "language_info": {
   "codemirror_mode": {
    "name": "ipython",
    "version": 3
   },
   "file_extension": ".py",
   "mimetype": "text/x-python",
   "name": "python",
   "nbconvert_exporter": "python",
   "pygments_lexer": "ipython3",
   "version": "3.10.11"
  }
 },
 "nbformat": 4,
 "nbformat_minor": 1
}
