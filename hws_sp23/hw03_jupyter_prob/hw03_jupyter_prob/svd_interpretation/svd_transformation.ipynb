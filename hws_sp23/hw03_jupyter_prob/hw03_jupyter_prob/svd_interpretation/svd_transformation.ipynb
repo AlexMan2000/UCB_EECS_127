{
 "cells": [
  {
   "cell_type": "markdown",
   "metadata": {},
   "source": [
    "# Readme\n",
    "Places where solutions are required are marked with **#TODO**\\\n",
    "You will **NOT** need to modify any section not marked as #TODO to answer this question.\\\n",
    "Make sure the helper file. svd_transformation_helper.py is in the same folder as this .ipynb\\\n",
    "Make sure you have numpy, matplotlib and itertools packages installed for python\n",
    "\n",
    "### In this notebook:\n",
    "Part (b) has 3 subparts i, ii, and iii\\\n",
    "Part (c) has 4 subparts i, ii, iii and iv\\\n",
    "Part (d) has 2 subparts i,ii\\\n",
    "Part (e) has only 1 subpart"
   ]
  },
  {
   "cell_type": "code",
   "execution_count": null,
   "metadata": {},
   "outputs": [],
   "source": [
    "import numpy as np\n",
    "import matplotlib.pyplot as plt\n",
    "%matplotlib inline\n",
    "from svd_transformation_helper import visualize_function\n",
    "from svd_transformation_helper import matrix_equals, is_orthonormal"
   ]
  },
  {
   "cell_type": "code",
   "execution_count": null,
   "metadata": {},
   "outputs": [],
   "source": [
    "DISABLE_CHECKS = False #Set this to True only if you get Value Errors about inputs even \n",
    "#when you are sure that what you are inputting is correct.\n",
    "#WARNING: Setting this to True and entering wrong inputs can lead to all kinds of crazy results/errors\n",
    "\n",
    "\n",
    "def visualize(U = np.identity(2), D = np.ones(2), VT = np.identity(2), num_grid_points_per_dim = 200,\\\n",
    "    disable_checks = DISABLE_CHECKS, show_original = True, show_VT = True, show_DVT = True, show_UDVT = True):\n",
    "    '''\n",
    "    Inputs:\n",
    "    A has singular value decomposition A = U np.diag(D) VT\n",
    "    U: 2 x 2 orthonormal matrix represented as a np.array of shape (2,2)\n",
    "    D: Diagonal entries corresponding to the diagonal matrix in SVD represented as a np.array of shape (2,)\n",
    "    VT: 2 x 2 orthonormal matrix represented as a np.array of shape (2,2)\n",
    "    num_grid_points_per_dim: Spacing of points used to represent circle (Decrease this if plotting is slow)\n",
    "    disable_checks: If False then have checks in  place to make sure dimensions of VT, U are correct, etc. \n",
    "    show_original: If True plots original unit circle and basis vectors\n",
    "    show_VT: If True plots transformation by VT\n",
    "    show_DVT: If True plots transformation by DVT\n",
    "    show_UDVT: If True plots transformation by UDVT\n",
    "    '''   \n",
    "\n",
    "    visualize_function(U=U, D=D, VT=VT, num_grid_points_per_dim=num_grid_points_per_dim, disable_checks=disable_checks,\\\n",
    "                     show_original=show_original, show_VT=show_VT, show_DVT=show_DVT, show_UDVT=show_UDVT)\n",
    "    "
   ]
  },
  {
   "cell_type": "markdown",
   "metadata": {},
   "source": [
    "# Effect of the linear transformation by an orthonormal matrix $V^T$\n",
    "A 2 x 2 orthonormal matrix can be viewed as a linear transformation that performs some combination of rotations and reflections. Note that both rotation and reflection are operations that preserve the length of vectors and the angle between them."
   ]
  },
  {
   "cell_type": "markdown",
   "metadata": {},
   "source": [
    "## $V^T$ as a rotation matrix\n",
    "First we set $V^T$ as a counter-clockwise rotation matrix. \n",
    "\n",
    "### (b) i: Fill in the function \"get_RCC(theta)\" to return a 2 x 2 matrix that, when applied to a vector x, rotates it by theta radians counter clockwise.\n",
    "\n",
    "Example: If $V^T = RCC\\left(\\frac{\\pi}{4}\\right)$ and x = $\\begin{bmatrix}1 \\\\ 0\\end{bmatrix}$, then,\n",
    "\n",
    "$V^T \\begin{bmatrix}1 \\\\ 0\\end{bmatrix}$ = $\\begin{bmatrix}\\frac{1}{\\sqrt{2}} \\\\ \\frac{1}{\\sqrt{2}} \\end{bmatrix}$\n"
   ]
  },
  {
   "cell_type": "code",
   "execution_count": null,
   "metadata": {},
   "outputs": [],
   "source": [
    "def get_RCC(theta):\n",
    "    '''\n",
    "    Returns a 2 x 2 orthonormal matrix that rotates x by theta radians counter-clockwise\n",
    "    '''\n",
    "    \n",
    "    RCC = np.identity(2) #TODO: Solution to (b) i. Change this line by filling in the correct reflection matrix\n",
    "    ############################################################################################\n",
    "    #Some assertions (WARNING: Do not modify below code)\n",
    "    if DISABLE_CHECKS is False:\n",
    "        if not isinstance(RCC, np.ndarray):\n",
    "                raise ValueError('RCC must be a np.ndarray')\n",
    "        if len(RCC.shape) != 2 or (RCC.shape != np.array([2,2])).any():\n",
    "                raise ValueError('RCC must have shape [2,2]')   \n",
    "    return RCC"
   ]
  },
  {
   "cell_type": "markdown",
   "metadata": {},
   "source": [
    "### get_RCC(theta) function test\n",
    "If the function get_RCC(theta) is defined correctly then you should not get any ERROR statement here."
   ]
  },
  {
   "cell_type": "code",
   "execution_count": null,
   "metadata": {},
   "outputs": [],
   "source": [
    "x = np.array([[1,0]]).T\n",
    "V_test = get_RCC(np.pi/4)\n",
    "y = V_test @ x\n",
    "expected_y = np.array([[1/np.sqrt(2), 1/np.sqrt(2)]]).T\n",
    "print(\"y:\")\n",
    "print(y)\n",
    "print(\"Expected y:\")\n",
    "print(expected_y)\n",
    "if not matrix_equals(y, expected_y):\n",
    "    print(\"ERROR: y does not match expected_y. Check if function get_RCC(theta) is completed correctly\")\n",
    "else:\n",
    "    print(\"MATCHED: y matches expected_y!\")"
   ]
  },
  {
   "cell_type": "markdown",
   "metadata": {},
   "source": [
    "Next we observe how $V^T$ transforms the unit circle and unit basis vectors when:\n",
    "\n",
    "1) $V^T = RCC\\left(\\frac{\\pi}{4}\\right)$"
   ]
  },
  {
   "cell_type": "code",
   "execution_count": null,
   "metadata": {},
   "outputs": [],
   "source": [
    "VT_1 = get_RCC(np.pi/4)\n",
    "visualize(VT = VT_1, show_DVT=False, show_UDVT=False)"
   ]
  },
  {
   "cell_type": "markdown",
   "metadata": {},
   "source": [
    "2) $V^T = RCC\\left(\\frac{-\\pi}{3}\\right)$"
   ]
  },
  {
   "cell_type": "code",
   "execution_count": null,
   "metadata": {},
   "outputs": [],
   "source": [
    "VT_2 = get_RCC(-np.pi/3)\n",
    "visualize(VT = VT_2, show_DVT=False, show_UDVT=False)"
   ]
  },
  {
   "cell_type": "markdown",
   "metadata": {},
   "source": [
    "Next we consider the case where $V^T$ is a reflection matrix."
   ]
  },
  {
   "cell_type": "markdown",
   "metadata": {},
   "source": [
    "## $V^T$ as a reflection matrix\n",
    "A reflection matrix is another type of orthonormal matrix. \n",
    "\n",
    "### (b) ii: Fill in the function \"get_RFx()\" to return a 2 x 2 matrix that when applied to a vector x reflects it about the x-axis.\n",
    "\n",
    "Example: If $V^T =RFx()$ and $x = \\begin{bmatrix}1 \\\\ 1\\end{bmatrix}$, then,\n",
    "\n",
    "$V^T \\begin{bmatrix}1 \\\\ 1\\end{bmatrix} = \\begin{bmatrix}1 \\\\ -1\\end{bmatrix}$\n"
   ]
  },
  {
   "cell_type": "code",
   "execution_count": null,
   "metadata": {},
   "outputs": [],
   "source": [
    "def get_RFx():\n",
    "    '''\n",
    "    Returns a 2 x 2 orthonormal matrix that reflects about x-axis\n",
    "    '''\n",
    "\n",
    "    \n",
    "    RFx = np.identity(2) #TODO: Solution to (b) ii: change this line by filling in the correct reflection matrix\n",
    "    ############################################################################################\n",
    "    #Some assertions (WARNING: Do not modify below code)\n",
    "    if DISABLE_CHECKS is False:\n",
    "        if not isinstance(RFx, np.ndarray):\n",
    "                raise ValueError('RFx must be a np.ndarray')\n",
    "        if len(RFx.shape) != 2 or (RFx.shape != np.array([2,2])).any():\n",
    "                raise ValueError('RFx must have shape [2,2]') \n",
    "    return RFx"
   ]
  },
  {
   "cell_type": "markdown",
   "metadata": {},
   "source": [
    "### get_RFx() function test\n",
    "If the function get_RFx() is defined correctly then you should see a MATCHED statement here."
   ]
  },
  {
   "cell_type": "code",
   "execution_count": null,
   "metadata": {},
   "outputs": [],
   "source": [
    "x = np.array([[1,1]]).T\n",
    "V_test = get_RFx()\n",
    "y = V_test @ x\n",
    "expected_y = np.array([[1, -1]]).T\n",
    "print(\"y:\")\n",
    "print(y)\n",
    "print(\"Expected y:\")\n",
    "print(expected_y)\n",
    "if not matrix_equals(y, expected_y):\n",
    "    print(\"ERROR: y does not match expected_y. Check if function get_RFx() is completed correctly\")\n",
    "else:\n",
    "    print(\"MATCHED: y matches expected_y!\")"
   ]
  },
  {
   "cell_type": "markdown",
   "metadata": {},
   "source": [
    "$V^T = RFx()$"
   ]
  },
  {
   "cell_type": "code",
   "execution_count": null,
   "metadata": {},
   "outputs": [],
   "source": [
    "VT_3 = get_RFx()\n",
    "visualize(VT = VT_3, show_DVT=False, show_UDVT=False)"
   ]
  },
  {
   "cell_type": "markdown",
   "metadata": {},
   "source": [
    "## $V^T$ as a composition of reflection and rotation matrix\n",
    "In general an orthonormal transformation can be viewed as compositions of rotation and reflection operators. \n",
    "Next we observe the effect of setting\n",
    "\n",
    "$V^T = RFx()\\cdot RCC\\left(\\frac{\\pi}{4}\\right)$\n"
   ]
  },
  {
   "cell_type": "code",
   "execution_count": null,
   "metadata": {},
   "outputs": [],
   "source": [
    "VT_4 = VT_3 @ VT_1\n",
    "#Check that VT_4 is still orthonormal\n",
    "print(\"VT_4 is orthonormal?: \", is_orthonormal(VT_4))\n",
    "visualize(VT = VT_4, show_DVT=False, show_UDVT=False)"
   ]
  },
  {
   "cell_type": "markdown",
   "metadata": {},
   "source": [
    "### (b) iii: Comment on the effect of $V^T = RCC\\left(\\frac{\\pi}{4}\\right)\\cdot RFx()$. Is it same as the case when $V^T = RFx()\\cdot RCC\\left(\\frac{\\pi}{4}\\right)$?"
   ]
  },
  {
   "cell_type": "code",
   "execution_count": null,
   "metadata": {},
   "outputs": [],
   "source": [
    "VT_5 = VT_1 @ VT_3\n",
    "visualize(VT = VT_5, show_DVT=False, show_UDVT=False)"
   ]
  },
  {
   "cell_type": "markdown",
   "metadata": {},
   "source": [
    "### #TODO: Fill in solution to (b) iii here"
   ]
  },
  {
   "cell_type": "markdown",
   "metadata": {},
   "source": [
    "# Effect of linear transformation by diagonal matrix D\n",
    "The diagonal matrix D with entries $\\sigma_1$ and $\\sigma_2$, transforms the unit circle into an ellipse with x direction scaled by $\\sigma_1$ and y direction scaled by $\\sigma_2$.\n",
    "\n",
    "If  $\\sigma_1 > \\sigma_2$, then the major axis of the ellipse will be along the x-axis.\n",
    "\n",
    "If  $\\sigma_1 < \\sigma_2$, then the major axis of the ellipse will be along the y-axis.\n",
    "\n",
    "If $\\sigma_1 = \\sigma_2$, then the ellipse will have both axis equal (i.e it is a circle).\n",
    "\n",
    "Note that multiplying by D, does not rotate or reflect points in any way. It is a purely scaling operation where different directions get scaled by different values based on entries of D."
   ]
  },
  {
   "cell_type": "markdown",
   "metadata": {},
   "source": [
    "### (c) i: Comment on the length of major and minor axis of the ellipse and their orientation with respect to X and Y axis when D has entries [3, 2]. Here V is identity."
   ]
  },
  {
   "cell_type": "code",
   "execution_count": null,
   "metadata": {},
   "outputs": [],
   "source": [
    "D_1 = np.array([3, 2])\n",
    "visualize( D = D_1, show_original=False, show_UDVT=False)"
   ]
  },
  {
   "cell_type": "markdown",
   "metadata": {},
   "source": [
    "### #TODO: Fill in solution to (c) i here"
   ]
  },
  {
   "cell_type": "markdown",
   "metadata": {},
   "source": [
    "### (c) ii: Comment on the length of major and minor axis of the ellipse and their orientation with respect to X and Y axis when D has entries [2, 3]. Here V is the identity matrix."
   ]
  },
  {
   "cell_type": "code",
   "execution_count": null,
   "metadata": {},
   "outputs": [],
   "source": [
    "D_2 = np.array([2, 3])\n",
    "visualize( D = D_2,  show_original=False, show_UDVT=False)"
   ]
  },
  {
   "cell_type": "markdown",
   "metadata": {},
   "source": [
    "### #TODO Fill in solution to (c) ii here"
   ]
  },
  {
   "cell_type": "markdown",
   "metadata": {},
   "source": [
    "### (c) iii: What can you say about the ellipse when D has entries [2, 2]? Here V is the identity matrix."
   ]
  },
  {
   "cell_type": "code",
   "execution_count": null,
   "metadata": {},
   "outputs": [],
   "source": [
    "D_3 = np.array([2, 2])\n",
    "visualize( D = D_3, show_original=False, show_UDVT=False)"
   ]
  },
  {
   "cell_type": "markdown",
   "metadata": {},
   "source": [
    "### #TODO Fill in solution to (c) iii here"
   ]
  },
  {
   "cell_type": "markdown",
   "metadata": {},
   "source": [
    "### (c) iv: What can you say about the ellipse when D has entries [2, 0]? Here V is the identity matrix."
   ]
  },
  {
   "cell_type": "code",
   "execution_count": null,
   "metadata": {},
   "outputs": [],
   "source": [
    "D_4 = np.array([2, 0])\n",
    "visualize( D = D_4, show_original=False, show_UDVT=False)"
   ]
  },
  {
   "cell_type": "markdown",
   "metadata": {},
   "source": [
    "### #TODO: Fill in solution to (c) iv here"
   ]
  },
  {
   "cell_type": "markdown",
   "metadata": {},
   "source": [
    "# Effect of the linear transformation by an orthonormal matrix $U$\n",
    "As we saw before for $V^T$, a 2 x 2 orthonormal matrix can be viewed as a linear transformation that performs some combination of rotations and reflections. \n",
    "\n",
    "### (d) i: Comment on the effect of $U  = RCC\\left(\\frac{\\pi}{4}\\right)$ as in cell below.  The value of $D$ is in the code below and $V$ is the identity matrix.  What happened to the ellipse?  Did the length of the major and minor axis change?"
   ]
  },
  {
   "cell_type": "code",
   "execution_count": null,
   "metadata": {},
   "outputs": [],
   "source": [
    "U_1 = get_RCC(np.pi/4)\n",
    "visualize( U = U_1, D =np.array([2,3]), show_original=False, show_VT=False)"
   ]
  },
  {
   "cell_type": "markdown",
   "metadata": {},
   "source": [
    "### #TODO: Fill in solution to (d) i here"
   ]
  },
  {
   "cell_type": "markdown",
   "metadata": {},
   "source": [
    "### (d) ii: Comment on the effect of $U = RFx()$ as in cell below. The value of $D$ is in the code below and $V$ is the identity matrix. What happened to the ellipse? Did length of major and minor axis change?"
   ]
  },
  {
   "cell_type": "code",
   "execution_count": null,
   "metadata": {},
   "outputs": [],
   "source": [
    "U_2 = get_RFx()\n",
    "visualize( U = U_2, D =np.array([2,3]), show_original=False, show_VT=False)"
   ]
  },
  {
   "cell_type": "markdown",
   "metadata": {},
   "source": [
    "### #TODO Fill in solution to (d) ii here"
   ]
  },
  {
   "cell_type": "markdown",
   "metadata": {},
   "source": [
    "# Putting everything together. Effect of linear transformation by $UDV^T$\n"
   ]
  },
  {
   "cell_type": "markdown",
   "metadata": {},
   "source": [
    "### Case I"
   ]
  },
  {
   "cell_type": "code",
   "execution_count": null,
   "metadata": {},
   "outputs": [],
   "source": [
    "U = get_RCC(np.pi/4)\n",
    "VT = get_RCC(-np.pi/3)\n",
    "D = np.array([3,2])\n",
    "visualize(U = U, VT= VT, D=D)"
   ]
  },
  {
   "cell_type": "markdown",
   "metadata": {},
   "source": [
    "The above figures show the transformation after each step. "
   ]
  },
  {
   "cell_type": "markdown",
   "metadata": {},
   "source": [
    "### Case II"
   ]
  },
  {
   "cell_type": "code",
   "execution_count": null,
   "metadata": {},
   "outputs": [],
   "source": [
    "U = get_RCC(np.pi/4)\n",
    "VT = get_RCC(-np.pi/3)\n",
    "D = np.array([3,0])\n",
    "visualize(U = U, VT= VT, D=D)"
   ]
  },
  {
   "cell_type": "markdown",
   "metadata": {},
   "source": [
    "The above figures show the transformation after each step. "
   ]
  },
  {
   "cell_type": "markdown",
   "metadata": {},
   "source": [
    "### Case III"
   ]
  },
  {
   "cell_type": "code",
   "execution_count": null,
   "metadata": {},
   "outputs": [],
   "source": [
    "A = np.array([[5, 3], [2, -2]])\n",
    "U,D,VT = np.linalg.svd(A)\n",
    "visualize(U = U, D=D, VT=VT)"
   ]
  },
  {
   "cell_type": "markdown",
   "metadata": {},
   "source": [
    "### (e): For case III, based on the figures obtained by running the cell, answer the following questions:\n",
    " 1) Is $V^T$ a  pure rotation, pure reflection or combination of both?\n",
    " \n",
    " 2) Let $\\sigma_1$ and $\\sigma_2$ denote the entries of the diagonal matrix in SVD of A, with $\\sigma_1 > \\sigma_2$? What is an approximate value of $\\frac{\\sigma_1}{\\sigma_2}$?\n",
    "  \n",
    " 3) Is $U$ a pure rotation, pure reflection or combination of both?"
   ]
  },
  {
   "cell_type": "markdown",
   "metadata": {},
   "source": [
    "### #TODO Fill in solution to (e) here\n",
    "1) \n",
    "\n",
    "2) \n",
    "\n",
    "3)"
   ]
  },
  {
   "cell_type": "markdown",
   "metadata": {},
   "source": [
    "# Exploration Area (Not part of homework question)\n",
    "You are free to visualize the effect of the SVD transformation on the unit circle for whatever matrix you desire"
   ]
  },
  {
   "cell_type": "code",
   "execution_count": null,
   "metadata": {},
   "outputs": [],
   "source": [
    "# #Sample format 1\n",
    "# U = get_RCC(np.pi/4)\n",
    "# VT = get_RCC(-np.pi/3)\n",
    "# D = np.array([3,2])\n",
    "# visualize(U = U, VT= VT, D=D)"
   ]
  },
  {
   "cell_type": "code",
   "execution_count": null,
   "metadata": {},
   "outputs": [],
   "source": [
    "# #Sample format 2\n",
    "# A = np.array([[5, 3], [2, -2]])\n",
    "# U,D,VT = np.linalg.svd(A)\n",
    "# visualize(U = U, D=D, VT=VT)"
   ]
  }
 ],
 "metadata": {
  "kernelspec": {
   "display_name": "Python 3 (ipykernel)",
   "language": "python",
   "name": "python3"
  },
  "language_info": {
   "codemirror_mode": {
    "name": "ipython",
    "version": 3
   },
   "file_extension": ".py",
   "mimetype": "text/x-python",
   "name": "python",
   "nbconvert_exporter": "python",
   "pygments_lexer": "ipython3",
   "version": "3.10.8"
  }
 },
 "nbformat": 4,
 "nbformat_minor": 2
}
